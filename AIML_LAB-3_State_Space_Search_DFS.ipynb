{
 "cells": [
  {
   "cell_type": "code",
   "execution_count": null,
   "id": "3ac3c856-5f16-4931-a392-5fe1b7a44e76",
   "metadata": {},
   "outputs": [],
   "source": [
    "# AIML-3 : State Space Search DFS"
   ]
  },
  {
   "cell_type": "code",
   "execution_count": 1,
   "id": "a14fc9d2-ee32-4208-b5c8-64495c5c22a8",
   "metadata": {},
   "outputs": [
    {
     "name": "stdout",
     "output_type": "stream",
     "text": [
      "Path found: [(0, 0), (0, 1), (0, 2), (1, 2), (2, 2)]\n"
     ]
    }
   ],
   "source": [
    "def is_valid_move(x, y, grid):\n",
    "  return 0 <= x < len(grid) and 0 <= y < len(grid[0]) and grid[x][y] == 0\n",
    "\n",
    "def dfs(grid, x, y, path):\n",
    "  # Goal condition\n",
    "  if (x, y) == (2,2):\n",
    "    return path\n",
    "\n",
    "# Possible moves (down, up, right, left)\n",
    "  moves =[(1,0),(-1,0),(0,1),(0,-1)]\n",
    "\n",
    "  for dx, dy in moves:\n",
    "    new_x, new_y = x + dx, y + dy\n",
    "    if is_valid_move(new_x, new_y, grid):\n",
    "      grid[new_x][new_y] = 1 # Mark as visited\n",
    "      result = dfs(grid, new_x, new_y, path + [(new_x, new_y) ])\n",
    "      if result: # If a path is found\n",
    "        return result\n",
    "      grid[new_x][new_y] = 0 # Unmark on backtrack\n",
    "\n",
    "  return None # No path found\n",
    "\n",
    "# 0 = open path, 1 = wall\n",
    "grid = [\n",
    "    [0, 0, 0],\n",
    "    [1, 1, 0],\n",
    "    [0, 0, 0]\n",
    "]\n",
    "\n",
    "# Starting DFS from (0, 0)\n",
    "grid[0][0] = 1 # Mark starting point as visited\n",
    "path = dfs(grid, 0, 0, [(0, 0,)])\n",
    "\n",
    "if path:\n",
    "  print(\"Path found:\", path)\n",
    "else:\n",
    "  print(\"No path found.\")"
   ]
  },
  {
   "cell_type": "code",
   "execution_count": 2,
   "id": "40e0c351-2bea-430d-a83b-8851bfec9fc0",
   "metadata": {},
   "outputs": [
    {
     "name": "stdout",
     "output_type": "stream",
     "text": [
      "Path found: [(0, 0), (0, 1), (0, 2), (1, 2), (2, 2), (2, 1), (2, 0), (3, 0), (4, 0), (4, 1), (4, 2)]\n",
      "Grid with highlighted path:\n",
      "\u001b[0;33m 0 \u001b[0m\u001b[0;33m 0 \u001b[0m\u001b[0;33m 0 \u001b[0m\n",
      " *  * \u001b[0;33m 0 \u001b[0m\n",
      "\u001b[0;33m 0 \u001b[0m\u001b[0;33m 0 \u001b[0m\u001b[0;33m 0 \u001b[0m\n",
      "\u001b[0;33m 0 \u001b[0m *  * \n",
      "\u001b[0;33m 0 \u001b[0m\u001b[0;33m 0 \u001b[0m\u001b[0;33m 0 \u001b[0m\n"
     ]
    }
   ],
   "source": [
    "\n",
    "#showing path 2 with star*\n",
    "def is_valid_move(x, y, grid):\n",
    "    return 0 <= x < len(grid) and 0 <= y < len(grid[0]) and grid[x][y] == 0\n",
    "\n",
    "def dfs(grid, x, y, path):\n",
    "    # Goal condition\n",
    "    if (x, y) == (4, 2):\n",
    "        return path\n",
    "\n",
    "    # Possible moves (down, up, right, left)\n",
    "    moves = [(1, 0), (-1, 0), (0, 1), (0, -1)]\n",
    "\n",
    "    for dx, dy in moves:\n",
    "        new_x, new_y = x + dx, y + dy\n",
    "        if is_valid_move(new_x, new_y, grid):\n",
    "            grid[new_x][new_y] = 1  # Mark as visited\n",
    "            result = dfs(grid, new_x, new_y, path + [(new_x, new_y)])\n",
    "            if result:  # If a path is found\n",
    "                return result\n",
    "            grid[new_x][new_y] = 0  # Unmark on backtrack\n",
    "\n",
    "    return None  # No path found\n",
    "\n",
    "def print_grid_with_path(grid, path):\n",
    "    for i in range(len(grid)):\n",
    "        for j in range(len(grid[0])):\n",
    "            if (i, j) in path:\n",
    "                print(\"\\033[0;33m 0 \\033[0m\", end='')  # Mark path with green asterisk\n",
    "            elif grid[i][j] == 1:\n",
    "                print(\" * \", end='')  # Wall\n",
    "            else:\n",
    "                print(\" . \", end='')  # Open path\n",
    "        print()  # New line for next row\n",
    "\n",
    "# 0 = open path, 1 = wall\n",
    "grid = [\n",
    "    [0, 0, 0],\n",
    "    [1, 1, 0],\n",
    "    [0, 0, 0],\n",
    "    [0, 1, 1],\n",
    "    [0, 0, 0]\n",
    "]\n",
    "\n",
    "# Starting DFS from (0, 0)\n",
    "grid[0][0] = 1  # Mark starting point as visited\n",
    "path = dfs(grid, 0, 0, [(0, 0)])\n",
    "\n",
    "if path:\n",
    "    print(\"Path found:\", path)\n",
    "    print(\"Grid with highlighted path:\")\n",
    "    print_grid_with_path(grid, path)\n",
    "else:\n",
    "    print(\"No path found.\")"
   ]
  },
  {
   "cell_type": "code",
   "execution_count": null,
   "id": "bba1fec1-dcda-4ddf-bd29-96f0bf4e8b0b",
   "metadata": {},
   "outputs": [],
   "source": []
  }
 ],
 "metadata": {
  "kernelspec": {
   "display_name": "Python 3 (ipykernel)",
   "language": "python",
   "name": "python3"
  },
  "language_info": {
   "codemirror_mode": {
    "name": "ipython",
    "version": 3
   },
   "file_extension": ".py",
   "mimetype": "text/x-python",
   "name": "python",
   "nbconvert_exporter": "python",
   "pygments_lexer": "ipython3",
   "version": "3.13.0"
  }
 },
 "nbformat": 4,
 "nbformat_minor": 5
}
